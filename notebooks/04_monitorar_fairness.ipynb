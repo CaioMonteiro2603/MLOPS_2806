{
 "cells": [
  {
   "cell_type": "markdown",
   "id": "fd1ae692",
   "metadata": {},
   "source": [
    "Monitoramento e Fariness"
   ]
  },
  {
   "cell_type": "code",
   "execution_count": 2,
   "id": "341bc27c",
   "metadata": {},
   "outputs": [],
   "source": [
    "import pandas as pd\n",
    "import joblib \n",
    "from sklearn.metrics import classification_report, confusion_matrix\n",
    "import matplotlib.pyplot as plt \n",
    "import seaborn as sns\n",
    "import os \n"
   ]
  },
  {
   "cell_type": "markdown",
   "id": "e05b8332",
   "metadata": {},
   "source": [
    "Carregar modelo e vetor já treinados"
   ]
  },
  {
   "cell_type": "code",
   "execution_count": 4,
   "id": "b611650a",
   "metadata": {},
   "outputs": [
    {
     "data": {
      "text/html": [
       "<div>\n",
       "<style scoped>\n",
       "    .dataframe tbody tr th:only-of-type {\n",
       "        vertical-align: middle;\n",
       "    }\n",
       "\n",
       "    .dataframe tbody tr th {\n",
       "        vertical-align: top;\n",
       "    }\n",
       "\n",
       "    .dataframe thead th {\n",
       "        text-align: right;\n",
       "    }\n",
       "</style>\n",
       "<table border=\"1\" class=\"dataframe\">\n",
       "  <thead>\n",
       "    <tr style=\"text-align: right;\">\n",
       "      <th></th>\n",
       "      <th>text</th>\n",
       "      <th>label</th>\n",
       "      <th>text_length</th>\n",
       "    </tr>\n",
       "  </thead>\n",
       "  <tbody>\n",
       "    <tr>\n",
       "      <th>0</th>\n",
       "      <td>Adorei o produto de investimentos no mercado d...</td>\n",
       "      <td>positivo</td>\n",
       "      <td>56</td>\n",
       "    </tr>\n",
       "    <tr>\n",
       "      <th>1</th>\n",
       "      <td>O serviço de instalação internet foi péssimo. ...</td>\n",
       "      <td>negativo</td>\n",
       "      <td>59</td>\n",
       "    </tr>\n",
       "    <tr>\n",
       "      <th>2</th>\n",
       "      <td>Entrega rápida com atendimento excelente</td>\n",
       "      <td>positivo</td>\n",
       "      <td>40</td>\n",
       "    </tr>\n",
       "    <tr>\n",
       "      <th>3</th>\n",
       "      <td>Não voltarei a comprar</td>\n",
       "      <td>negativo</td>\n",
       "      <td>22</td>\n",
       "    </tr>\n",
       "    <tr>\n",
       "      <th>4</th>\n",
       "      <td>Adorei o produto, superou minhas expectativas!</td>\n",
       "      <td>positivo</td>\n",
       "      <td>46</td>\n",
       "    </tr>\n",
       "  </tbody>\n",
       "</table>\n",
       "</div>"
      ],
      "text/plain": [
       "                                                text     label  text_length\n",
       "0  Adorei o produto de investimentos no mercado d...  positivo           56\n",
       "1  O serviço de instalação internet foi péssimo. ...  negativo           59\n",
       "2           Entrega rápida com atendimento excelente  positivo           40\n",
       "3                             Não voltarei a comprar  negativo           22\n",
       "4     Adorei o produto, superou minhas expectativas!  positivo           46"
      ]
     },
     "metadata": {},
     "output_type": "display_data"
    }
   ],
   "source": [
    "modelo_path = \"../model.joblib\"\n",
    "vetor_path = \"../vectorizer.joblib\"\n",
    "dados_path = \"../data/tweet_limpo.csv\"\n",
    "\n",
    "if not (os.path.exists(modelo_path) and os.path.exists(vetor_path)):\n",
    "  raise FileExistsError(\"Treine e salve o modelo antes de executar!\")\n",
    "\n",
    "model = joblib.load(modelo_path)\n",
    "vectorizer = joblib.load(vetor_path)\n",
    "df = pd.read_csv(dados_path)\n",
    "display(df.head())"
   ]
  },
  {
   "cell_type": "markdown",
   "id": "c583118a",
   "metadata": {},
   "source": [
    "Monitoramento"
   ]
  },
  {
   "cell_type": "code",
   "execution_count": 9,
   "id": "69483785",
   "metadata": {},
   "outputs": [
    {
     "data": {
      "text/html": [
       "<div>\n",
       "<style scoped>\n",
       "    .dataframe tbody tr th:only-of-type {\n",
       "        vertical-align: middle;\n",
       "    }\n",
       "\n",
       "    .dataframe tbody tr th {\n",
       "        vertical-align: top;\n",
       "    }\n",
       "\n",
       "    .dataframe thead th {\n",
       "        text-align: right;\n",
       "    }\n",
       "</style>\n",
       "<table border=\"1\" class=\"dataframe\">\n",
       "  <thead>\n",
       "    <tr style=\"text-align: right;\">\n",
       "      <th></th>\n",
       "      <th>text</th>\n",
       "    </tr>\n",
       "  </thead>\n",
       "  <tbody>\n",
       "    <tr>\n",
       "      <th>0</th>\n",
       "      <td>Muito ruim, não gostei do atendimento.</td>\n",
       "    </tr>\n",
       "    <tr>\n",
       "      <th>1</th>\n",
       "      <td>A entrega foi sensacional!</td>\n",
       "    </tr>\n",
       "    <tr>\n",
       "      <th>2</th>\n",
       "      <td>Não funcionou, me decepcionei.</td>\n",
       "    </tr>\n",
       "    <tr>\n",
       "      <th>3</th>\n",
       "      <td>Recomendo para todos, nota 10!</td>\n",
       "    </tr>\n",
       "  </tbody>\n",
       "</table>\n",
       "</div>"
      ],
      "text/plain": [
       "                                     text\n",
       "0  Muito ruim, não gostei do atendimento.\n",
       "1              A entrega foi sensacional!\n",
       "2          Não funcionou, me decepcionei.\n",
       "3          Recomendo para todos, nota 10!"
      ]
     },
     "metadata": {},
     "output_type": "display_data"
    }
   ],
   "source": [
    "novos_textos = [\n",
    "  \"Muito ruim, não gostei do atendimento.\",\n",
    "  \"A entrega foi sensacional!\",\n",
    "  \"Não funcionou, me decepcionei.\",\n",
    "  \"Recomendo para todos, nota 10!\"\n",
    "]\n",
    "\n",
    "novos_df = pd.DataFrame({'text': novos_textos})\n",
    "display(novos_df)"
   ]
  },
  {
   "cell_type": "markdown",
   "id": "1663d982",
   "metadata": {},
   "source": [
    "Vetorizar e predição"
   ]
  },
  {
   "cell_type": "code",
   "execution_count": 10,
   "id": "c61bfc8e",
   "metadata": {},
   "outputs": [
    {
     "name": "stdout",
     "output_type": "stream",
     "text": [
      "                                     text sentimento_predito\n",
      "0  Muito ruim, não gostei do atendimento.           positivo\n",
      "1              A entrega foi sensacional!           positivo\n",
      "2          Não funcionou, me decepcionei.           positivo\n",
      "3          Recomendo para todos, nota 10!           positivo\n"
     ]
    }
   ],
   "source": [
    "novos_vetores = vectorizer.transform(novos_df['text'])\n",
    "novos_preds = model.predict(novos_vetores)\n",
    "novos_df['sentimento_predito'] = novos_preds\n",
    "print(novos_df)"
   ]
  },
  {
   "cell_type": "markdown",
   "id": "ea99225f",
   "metadata": {},
   "source": [
    "Porcentagem de cada classe "
   ]
  },
  {
   "cell_type": "code",
   "execution_count": 11,
   "id": "ce48acae",
   "metadata": {},
   "outputs": [
    {
     "name": "stdout",
     "output_type": "stream",
     "text": [
      "Distribuição dos sentimentos preditos nos novos dados: \n",
      "sentimento_predito\n",
      "positivo    1.0\n",
      "Name: proportion, dtype: float64\n"
     ]
    }
   ],
   "source": [
    "class_dist = novos_df['sentimento_predito'].value_counts(normalize=True)\n",
    "print('Distribuição dos sentimentos preditos nos novos dados: ')\n",
    "print(class_dist)"
   ]
  },
  {
   "cell_type": "markdown",
   "id": "72650987",
   "metadata": {},
   "source": [
    "Fairness - Vieses "
   ]
  },
  {
   "cell_type": "code",
   "execution_count": 12,
   "id": "6a09c8ab",
   "metadata": {},
   "outputs": [
    {
     "data": {
      "text/plain": [
       "0    medio\n",
       "1    medio\n",
       "2    curto\n",
       "3    curto\n",
       "4    curto\n",
       "5    curto\n",
       "6    curto\n",
       "7    curto\n",
       "Name: len_category, dtype: category\n",
       "Categories (3, object): ['curto' < 'medio' < ' longo']"
      ]
     },
     "metadata": {},
     "output_type": "display_data"
    }
   ],
   "source": [
    "df['text_len'] = df['text'].apply(len)\n",
    "df['len_category'] = pd.cut(df['text_len'], bins=[0, 50, 150, 1000], labels=('curto', 'medio', ' longo'))\n",
    "display(df['len_category'])"
   ]
  },
  {
   "cell_type": "markdown",
   "id": "016aeef5",
   "metadata": {},
   "source": [
    "Predições conjunto de validação"
   ]
  },
  {
   "cell_type": "code",
   "execution_count": 14,
   "id": "02f080e5",
   "metadata": {},
   "outputs": [
    {
     "data": {
      "text/plain": [
       "0    positivo\n",
       "1    positivo\n",
       "2    positivo\n",
       "3    negativo\n",
       "4    positivo\n",
       "5    positivo\n",
       "6    positivo\n",
       "7    positivo\n",
       "Name: pred, dtype: object"
      ]
     },
     "metadata": {},
     "output_type": "display_data"
    }
   ],
   "source": [
    "vetores = vectorizer.transform(df['text'])\n",
    "df['pred'] = model.predict(vetores)\n",
    "display(df['pred'])"
   ]
  },
  {
   "cell_type": "markdown",
   "id": "e5b2dc4f",
   "metadata": {},
   "source": [
    "Avaliação de acurácia "
   ]
  },
  {
   "cell_type": "code",
   "execution_count": 16,
   "id": "3c523661",
   "metadata": {},
   "outputs": [
    {
     "name": "stdout",
     "output_type": "stream",
     "text": [
      "Acuracia para os textos medio: 0.50 (N=2)\n",
      "Acuracia para os textos curto: 0.83 (N=6)\n"
     ]
    }
   ],
   "source": [
    "for category in df['len_category'].unique():\n",
    "    subset = df[df['len_category'] == category]\n",
    "    if not subset.empty:\n",
    "        acuracia = (subset['label'] == subset['pred']).mean()\n",
    "        print(f\"Acuracia para os textos {category}: {acuracia:.2f} (N={len(subset)})\")"
   ]
  },
  {
   "cell_type": "markdown",
   "id": "8db27c21",
   "metadata": {},
   "source": [
    "Desafio fairness"
   ]
  },
  {
   "cell_type": "code",
   "execution_count": 19,
   "id": "752bed3c",
   "metadata": {},
   "outputs": [
    {
     "name": "stdout",
     "output_type": "stream",
     "text": [
      "Matriz de confusão para textos medio\n",
      "[[0 1]\n",
      " [0 1]]\n"
     ]
    },
    {
     "data": {
      "image/png": "[encoded data removed]",
      "text/plain": [
       "<Figure size 640x480 with 2 Axes>"
      ]
     },
     "metadata": {},
     "output_type": "display_data"
    },
    {
     "name": "stdout",
     "output_type": "stream",
     "text": [
      "Matriz de confusão para textos curto\n",
      "[[1 1]\n",
      " [0 4]]\n"
     ]
    },
    {
     "data": {
      "image/png": "[encoded data removed]",
      "text/plain": [
       "<Figure size 640x480 with 2 Axes>"
      ]
     },
     "metadata": {},
     "output_type": "display_data"
    }
   ],
   "source": [
    "for category in df['len_category'].unique():\n",
    "    subset = df[df['len_category'] == category]\n",
    "    if not subset.empty:\n",
    "        print(f\"Matriz de confusão para textos {category}\")\n",
    "        print(confusion_matrix(subset['label'], subset[\"pred\"]))\n",
    "        sns.heatmap(confusion_matrix(subset['label'], subset[\"pred\"]),\n",
    "                    annot=True, fmt='d', cmap=\"Blues\",\n",
    "                    xticklabels=['negativo','positivo'],\n",
    "                    yticklabels=['negativo', 'positivo'])\n",
    "        \n",
    "        plt.title(f\"Textos {category}\")\n",
    "        plt.xlabel(\"Predito\")\n",
    "        plt.ylabel(\"Real\")\n",
    "        plt.show()"
   ]
  }
 ],
 "metadata": {
  "kernelspec": {
   "display_name": ".venv",
   "language": "python",
   "name": "python3"
  },
  "language_info": {
   "codemirror_mode": {
    "name": "ipython",
    "version": 3
   },
   "file_extension": ".py",
   "mimetype": "text/x-python",
   "name": "python",
   "nbconvert_exporter": "python",
   "pygments_lexer": "ipython3",
   "version": "3.11.8"
  }
 },
 "nbformat": 4,
 "nbformat_minor": 5
}
